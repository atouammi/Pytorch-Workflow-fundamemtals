{
 "cells": [
  {
   "cell_type": "code",
   "execution_count": 2,
   "metadata": {},
   "outputs": [
    {
     "name": "stderr",
     "output_type": "stream",
     "text": [
      "/usr/lib/python3/dist-packages/scipy/__init__.py:146: UserWarning: A NumPy version >=1.17.3 and <1.25.0 is required for this version of SciPy (detected version 1.26.3\n",
      "  warnings.warn(f\"A NumPy version >={np_minversion} and <{np_maxversion}\"\n"
     ]
    },
    {
     "data": {
      "text/plain": [
       "'2.2.1+cu121'"
      ]
     },
     "execution_count": 2,
     "metadata": {},
     "output_type": "execute_result"
    }
   ],
   "source": [
    "import torch\n",
    "from torch import nn\n",
    "import matplotlib.pyplot as plt\n",
    "from sklearn.model_selection import train_test_split\n",
    "\n",
    "# check pytorch version\n",
    "torch.__version__"
   ]
  },
  {
   "cell_type": "markdown",
   "metadata": {},
   "source": [
    "# 1. Data prepare and load\n",
    "\n",
    "\n",
    "Let's create some know data using the linear regression formula.\n"
   ]
  },
  {
   "cell_type": "code",
   "execution_count": 17,
   "metadata": {},
   "outputs": [],
   "source": [
    "# create \"know \" parameters\n",
    "\n",
    "\n",
    "weight = 7\n",
    "bias = 4\n",
    "\n",
    "\n",
    "#create\n",
    "\n",
    "start =  0\n",
    "\n",
    "end = 3\n",
    "\n",
    "step =  0.025\n",
    "\n",
    "\n",
    "X = torch.arange(start=start,end=end,step=step).unsqueeze(dim=1) # reshape X into dimension (n,1)\n",
    "y = weight*X +bias + torch.randn(X.shape)"
   ]
  },
  {
   "cell_type": "code",
   "execution_count": 18,
   "metadata": {},
   "outputs": [
    {
     "name": "stdout",
     "output_type": "stream",
     "text": [
      "X shape:torch.Size([120, 1])\n",
      "y shape:torch.Size([120, 1])\n"
     ]
    }
   ],
   "source": [
    "print(f\"X shape:{X.shape}\")\n",
    "print(f\"y shape:{y.shape}\")"
   ]
  },
  {
   "cell_type": "code",
   "execution_count": 30,
   "metadata": {},
   "outputs": [
    {
     "name": "stdout",
     "output_type": "stream",
     "text": [
      "X_train shape:torch.Size([96, 1])\n",
      "y_train shape:torch.Size([96, 1])\n",
      "X_test shape:torch.Size([24, 1])\n",
      "y_test shape:torch.Size([24, 1])\n"
     ]
    }
   ],
   "source": [
    "X_train,X_test,y_train,y_test = train_test_split(X,y,test_size=0.2,shuffle=True,random_state=42)\n",
    "\n",
    "print(f\"X_train shape:{X_train.shape}\")\n",
    "print(f\"y_train shape:{y_train.shape}\")\n",
    "\n",
    "print(f\"X_test shape:{X_test.shape}\")\n",
    "print(f\"y_test shape:{y_test.shape}\")"
   ]
  },
  {
   "cell_type": "code",
   "execution_count": 32,
   "metadata": {},
   "outputs": [],
   "source": [
    "def plot_prediction(train_data = X_train,\n",
    "                    test_data = X_test,\n",
    "                    train_label = y_train,\n",
    "                    test_label = y_test,\n",
    "                    prediction = None):\n",
    "    \n",
    "    '''Plot the train_data, test_data and compare  the prediction'''\n",
    "\n",
    "\n",
    "\n",
    "    plt.figure(figsize=(14,8))\n",
    "\n",
    "    # train plot\n",
    "    plt.scatter(train_data,train_label,c = 'b',s=10,label = \"train_data\")\n",
    "\n",
    "    # test plot\n",
    "    plt.scatter(test_data,test_label,c = 'g',s=10,label = \"test_data\")\n",
    "\n",
    "    if prediction :\n",
    "        plt.scatter(test_data,prediction,c= 'r',s= 10,label = \"prediction\")\n",
    "\n",
    "\n",
    "    plt.legend(prop = {\"size\":14})"
   ]
  },
  {
   "cell_type": "code",
   "execution_count": 33,
   "metadata": {},
   "outputs": [
    {
     "data": {
      "image/png": "[encoded data removed]",
      "text/plain": [
       "<Figure size 1008x576 with 1 Axes>"
      ]
     },
     "metadata": {
      "needs_background": "light"
     },
     "output_type": "display_data"
    }
   ],
   "source": [
    "plot_prediction()"
   ]
  },
  {
   "cell_type": "markdown",
   "metadata": {},
   "source": [
    "# 2. buid a model"
   ]
  },
  {
   "cell_type": "code",
   "execution_count": null,
   "metadata": {},
   "outputs": [],
   "source": []
  }
 ],
 "metadata": {
  "kernelspec": {
   "display_name": "Python 3",
   "language": "python",
   "name": "python3"
  },
  "language_info": {
   "codemirror_mode": {
    "name": "ipython",
    "version": 3
   },
   "file_extension": ".py",
   "mimetype": "text/x-python",
   "name": "python",
   "nbconvert_exporter": "python",
   "pygments_lexer": "ipython3",
   "version": "3.10.12"
  }
 },
 "nbformat": 4,
 "nbformat_minor": 2
}
