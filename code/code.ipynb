{
 "cells": [
  {
   "cell_type": "code",
   "execution_count": 2,
   "metadata": {},
   "outputs": [
    {
     "name": "stderr",
     "output_type": "stream",
     "text": [
      "/usr/lib/python3/dist-packages/scipy/__init__.py:146: UserWarning: A NumPy version >=1.17.3 and <1.25.0 is required for this version of SciPy (detected version 1.26.3\n",
      "  warnings.warn(f\"A NumPy version >={np_minversion} and <{np_maxversion}\"\n"
     ]
    },
    {
     "data": {
      "text/plain": [
       "'2.2.1+cu121'"
      ]
     },
     "execution_count": 2,
     "metadata": {},
     "output_type": "execute_result"
    }
   ],
   "source": [
    "import torch\n",
    "from torch import nn\n",
    "import matplotlib.pyplot as plt\n",
    "from sklearn.model_selection import train_test_split\n",
    "\n",
    "# check pytorch version\n",
    "torch.__version__"
   ]
  },
  {
   "cell_type": "markdown",
   "metadata": {},
   "source": [
    "# 1. Data prepare and load\n",
    "\n",
    "\n",
    "Let's create some know data using the linear regression formula.\n"
   ]
  },
  {
   "cell_type": "code",
   "execution_count": 17,
   "metadata": {},
   "outputs": [],
   "source": [
    "# create \"know \" parameters\n",
    "\n",
    "\n",
    "weight = 7\n",
    "bias = 4\n",
    "\n",
    "\n",
    "#create\n",
    "\n",
    "start =  0\n",
    "\n",
    "end = 3\n",
    "\n",
    "step =  0.025\n",
    "\n",
    "\n",
    "X = torch.arange(start=start,end=end,step=step).unsqueeze(dim=1) # reshape X into dimension (n,1)\n",
    "y = weight*X +bias + torch.randn(X.shape)"
   ]
  },
  {
   "cell_type": "code",
   "execution_count": 18,
   "metadata": {},
   "outputs": [
    {
     "name": "stdout",
     "output_type": "stream",
     "text": [
      "X shape:torch.Size([120, 1])\n",
      "y shape:torch.Size([120, 1])\n"
     ]
    }
   ],
   "source": [
    "print(f\"X shape:{X.shape}\")\n",
    "print(f\"y shape:{y.shape}\")"
   ]
  },
  {
   "cell_type": "code",
   "execution_count": 30,
   "metadata": {},
   "outputs": [
    {
     "name": "stdout",
     "output_type": "stream",
     "text": [
      "X_train shape:torch.Size([96, 1])\n",
      "y_train shape:torch.Size([96, 1])\n",
      "X_test shape:torch.Size([24, 1])\n",
      "y_test shape:torch.Size([24, 1])\n"
     ]
    }
   ],
   "source": [
    "X_train,X_test,y_train,y_test = train_test_split(X,y,test_size=0.2,shuffle=True,random_state=42)\n",
    "\n",
    "print(f\"X_train shape:{X_train.shape}\")\n",
    "print(f\"y_train shape:{y_train.shape}\")\n",
    "\n",
    "print(f\"X_test shape:{X_test.shape}\")\n",
    "print(f\"y_test shape:{y_test.shape}\")"
   ]
  },
  {
   "cell_type": "code",
   "execution_count": 54,
   "metadata": {},
   "outputs": [],
   "source": [
    "def plot_prediction(train_data = X_train,\n",
    "                    test_data = X_test,\n",
    "                    train_label = y_train,\n",
    "                    test_label = y_test,\n",
    "                    prediction = None):\n",
    "    \n",
    "    '''Plot the train_data, test_data and compare  the prediction'''\n",
    "\n",
    "\n",
    "\n",
    "    plt.figure(figsize=(14,8))\n",
    "\n",
    "    # train plot\n",
    "    plt.scatter(train_data,train_label,c = 'b',s=10,label = \"train_data\")\n",
    "\n",
    "    # test plot\n",
    "    plt.scatter(test_data,test_label,c = 'g',s=10,label = \"test_data\")\n",
    "\n",
    "    if prediction is not None :\n",
    "        plt.scatter(test_data,prediction,c= 'r',s= 10,label = \"prediction\")\n",
    "\n",
    "\n",
    "    plt.legend(prop = {\"size\":14})"
   ]
  },
  {
   "cell_type": "code",
   "execution_count": 55,
   "metadata": {},
   "outputs": [
    {
     "data": {
      "image/png": "[encoded data removed]",
      "text/plain": [
       "<Figure size 1008x576 with 1 Axes>"
      ]
     },
     "metadata": {
      "needs_background": "light"
     },
     "output_type": "display_data"
    }
   ],
   "source": [
    "plot_prediction()"
   ]
  },
  {
   "cell_type": "markdown",
   "metadata": {},
   "source": [
    "# 2. buid a model"
   ]
  },
  {
   "cell_type": "code",
   "execution_count": 56,
   "metadata": {},
   "outputs": [],
   "source": [
    "# Create a linear model class\n",
    "class LinearRegressionModel(nn.Module):\n",
    "    def __init__(self,d = X_train.shape[1]):\n",
    "        super().__init__()\n",
    "\n",
    "        self.weight = nn.Parameter(torch.randn(d,requires_grad=True,dtype=torch.float))\n",
    "        self.bias = nn.Parameter(torch.randn(d,requires_grad=True,dtype=torch.float))\n",
    "\n",
    "\n",
    "    def forward(self,x):\n",
    "\n",
    "        return self.weight*x +self.bias\n"
   ]
  },
  {
   "cell_type": "code",
   "execution_count": 106,
   "metadata": {},
   "outputs": [],
   "source": [
    "torch.manual_seed(42)\n",
    "model_0 = LinearRegressionModel()"
   ]
  },
  {
   "cell_type": "code",
   "execution_count": 107,
   "metadata": {},
   "outputs": [
    {
     "data": {
      "text/plain": [
       "[Parameter containing:\n",
       " tensor([0.3367], requires_grad=True),\n",
       " Parameter containing:\n",
       " tensor([0.1288], requires_grad=True)]"
      ]
     },
     "execution_count": 107,
     "metadata": {},
     "output_type": "execute_result"
    }
   ],
   "source": [
    "list(model_0.parameters())"
   ]
  },
  {
   "cell_type": "code",
   "execution_count": 108,
   "metadata": {},
   "outputs": [
    {
     "data": {
      "text/plain": [
       "OrderedDict([('weight', tensor([0.3367])), ('bias', tensor([0.1288]))])"
      ]
     },
     "execution_count": 108,
     "metadata": {},
     "output_type": "execute_result"
    }
   ],
   "source": [
    "model_0.state_dict()"
   ]
  },
  {
   "cell_type": "code",
   "execution_count": 109,
   "metadata": {},
   "outputs": [
    {
     "data": {
      "text/plain": [
       "tensor([[0.4992],\n",
       "        [0.5244],\n",
       "        [0.1625],\n",
       "        [0.5918],\n",
       "        [0.3477]])"
      ]
     },
     "execution_count": 109,
     "metadata": {},
     "output_type": "execute_result"
    }
   ],
   "source": [
    "# make preciction without training\n",
    "with torch.inference_mode():\n",
    "    y_pred = model_0(X_test)\n",
    "\n",
    "\n",
    "y_pred[:5]"
   ]
  },
  {
   "cell_type": "code",
   "execution_count": 110,
   "metadata": {},
   "outputs": [
    {
     "data": {
      "image/png": "[encoded data removed]",
      "text/plain": [
       "<Figure size 1008x576 with 1 Axes>"
      ]
     },
     "metadata": {
      "needs_background": "light"
     },
     "output_type": "display_data"
    }
   ],
   "source": [
    "#plot\n",
    "\n",
    "plot_prediction(prediction=y_pred)"
   ]
  },
  {
   "cell_type": "markdown",
   "metadata": {},
   "source": [
    "# 3.training"
   ]
  },
  {
   "cell_type": "code",
   "execution_count": 111,
   "metadata": {},
   "outputs": [],
   "source": [
    "loss_fn = nn.MSELoss()\n",
    "\n",
    "optimizer = torch.optim.SGD(model_0.parameters(),lr=0.01)"
   ]
  },
  {
   "cell_type": "code",
   "execution_count": 112,
   "metadata": {},
   "outputs": [],
   "source": [
    "def train_eval(model,\n",
    "               loss_fn = loss_fn,\n",
    "               optimizer = optimizer,\n",
    "               X_train = X_train,\n",
    "               X_test = X_test,\n",
    "               y_train = y_train,\n",
    "               y_test = y_test,\n",
    "               epochs= 200):\n",
    "\n",
    "    epoch_count = []\n",
    "    loss_values = []\n",
    "    test_loss_values = []\n",
    "\n",
    "    for epoch in range(epochs):\n",
    "        model_0.train()\n",
    "\n",
    "        # 1. forward\n",
    "\n",
    "        y_pred = model_0(X_train)\n",
    "\n",
    "        # 2. Calculate the loss\n",
    "\n",
    "        loss = loss_fn(y_pred,y_train)\n",
    "\n",
    "        # if epoch%10 ==0:\n",
    "        #     print(f\"Epoch :{epoch+1} ==> loss: {loss}\")\n",
    "\n",
    "        #3. Optimizer zero grad\n",
    "        optimizer.zero_grad()\n",
    "        # 4. Perform backpropagation on the loss with respect to the parameters of the model\n",
    "        loss.backward()\n",
    "        # 5. step the optimizer (perform gradient descent)\n",
    "        optimizer.step() # by default how the optimizer changes will acculumate through the loop so...we have to zero \n",
    "\n",
    "        # Testing\n",
    "        model.eval() #turn off gradient tracking (turns off different settings in the model not needed for evaluation/tes\n",
    "        with torch.inference_mode(): # turns off gradient tracking & a couple more things behind the scenes\n",
    "            # with torch.no_grad(): # you may also see torch.no_grad() in older PyTorch code\n",
    "            # 1. Do the forward pass\n",
    "            test_pred_new = model_0(X_test)\n",
    "            # 2. Calculate the loss\n",
    "            test_loss = loss_fn(test_pred_new, y_test)\n",
    "            # Print out what's happening\n",
    "            if epoch % 10 == 0:\n",
    "                epoch_count.append(epoch)\n",
    "                loss_values.append(loss)\n",
    "                test_loss_values.append(test_loss)\n",
    "                print(f\"Epoch: {epoch} | Loss: {loss} | Test loss: {test_loss}\")\n",
    "                # print out model state_dict\n",
    "                print(model_0.state_dict())\n",
    "\n",
    "    return loss_values , test_loss_values,epoch_count\n"
   ]
  },
  {
   "cell_type": "code",
   "execution_count": 113,
   "metadata": {},
   "outputs": [
    {
     "name": "stdout",
     "output_type": "stream",
     "text": [
      "Epoch: 0 | Loss: 235.61109924316406 | Test loss: 170.3186492919922\n",
      "OrderedDict([('weight', tensor([0.8703])), ('bias', tensor([0.4123]))])\n",
      "Epoch: 10 | Loss: 47.42538070678711 | Test loss: 34.8744010925293\n",
      "OrderedDict([('weight', tensor([4.3784])), ('bias', tensor([2.2831]))])\n",
      "Epoch: 20 | Loss: 10.170634269714355 | Test loss: 7.715972900390625\n",
      "OrderedDict([('weight', tensor([5.9347])), ('bias', tensor([3.1239]))])\n",
      "Epoch: 30 | Loss: 2.7935619354248047 | Test loss: 2.1883468627929688\n",
      "OrderedDict([('weight', tensor([6.6229])), ('bias', tensor([3.5062]))])\n",
      "Epoch: 40 | Loss: 1.331089973449707 | Test loss: 1.0281349420547485\n",
      "OrderedDict([('weight', tensor([6.9249])), ('bias', tensor([3.6841]))])\n",
      "Epoch: 50 | Loss: 1.0395984649658203 | Test loss: 0.7699572443962097\n",
      "OrderedDict([('weight', tensor([7.0554])), ('bias', tensor([3.7708]))])\n",
      "Epoch: 60 | Loss: 0.9800595641136169 | Test loss: 0.706797182559967\n",
      "OrderedDict([('weight', tensor([7.1096])), ('bias', tensor([3.8166]))])\n",
      "Epoch: 70 | Loss: 0.9665758013725281 | Test loss: 0.6894760131835938\n",
      "OrderedDict([('weight', tensor([7.1300])), ('bias', tensor([3.8439]))])\n",
      "Epoch: 80 | Loss: 0.9623377323150635 | Test loss: 0.6844193339347839\n",
      "OrderedDict([('weight', tensor([7.1356])), ('bias', tensor([3.8628]))])\n",
      "Epoch: 90 | Loss: 0.960048496723175 | Test loss: 0.6832045912742615\n",
      "OrderedDict([('weight', tensor([7.1347])), ('bias', tensor([3.8776]))])\n",
      "Epoch: 100 | Loss: 0.9582550525665283 | Test loss: 0.6833815574645996\n",
      "OrderedDict([('weight', tensor([7.1310])), ('bias', tensor([3.8904]))])\n",
      "Epoch: 110 | Loss: 0.9566614627838135 | Test loss: 0.6841191649436951\n",
      "OrderedDict([('weight', tensor([7.1262])), ('bias', tensor([3.9020]))])\n",
      "Epoch: 120 | Loss: 0.9552011489868164 | Test loss: 0.6850987076759338\n",
      "OrderedDict([('weight', tensor([7.1211])), ('bias', tensor([3.9129]))])\n",
      "Epoch: 130 | Loss: 0.9538538455963135 | Test loss: 0.6861874461174011\n",
      "OrderedDict([('weight', tensor([7.1159])), ('bias', tensor([3.9233]))])\n",
      "Epoch: 140 | Loss: 0.9526093006134033 | Test loss: 0.687325656414032\n",
      "OrderedDict([('weight', tensor([7.1108])), ('bias', tensor([3.9332]))])\n",
      "Epoch: 150 | Loss: 0.9514586925506592 | Test loss: 0.6884868144989014\n",
      "OrderedDict([('weight', tensor([7.1059])), ('bias', tensor([3.9427]))])\n",
      "Epoch: 160 | Loss: 0.9503957629203796 | Test loss: 0.6896559596061707\n",
      "OrderedDict([('weight', tensor([7.1011])), ('bias', tensor([3.9518]))])\n",
      "Epoch: 170 | Loss: 0.9494132995605469 | Test loss: 0.6908249258995056\n",
      "OrderedDict([('weight', tensor([7.0965])), ('bias', tensor([3.9605]))])\n",
      "Epoch: 180 | Loss: 0.9485049843788147 | Test loss: 0.6919894814491272\n",
      "OrderedDict([('weight', tensor([7.0921])), ('bias', tensor([3.9689]))])\n",
      "Epoch: 190 | Loss: 0.9476655125617981 | Test loss: 0.6931456923484802\n",
      "OrderedDict([('weight', tensor([7.0878])), ('bias', tensor([3.9770]))])\n"
     ]
    }
   ],
   "source": [
    "loss_train,loss_test,epoch_count =train_eval(model=model_0)"
   ]
  },
  {
   "cell_type": "code",
   "execution_count": null,
   "metadata": {},
   "outputs": [],
   "source": []
  },
  {
   "cell_type": "code",
   "execution_count": 114,
   "metadata": {},
   "outputs": [
    {
     "data": {
      "text/plain": [
       "<matplotlib.legend.Legend at 0x752368cf6320>"
      ]
     },
     "execution_count": 114,
     "metadata": {},
     "output_type": "execute_result"
    },
    {
     "data": {
      "image/png": "[encoded data removed]",
      "text/plain": [
       "<Figure size 432x288 with 1 Axes>"
      ]
     },
     "metadata": {
      "needs_background": "light"
     },
     "output_type": "display_data"
    }
   ],
   "source": [
    "# plot the loss curves\n",
    "import numpy as np\n",
    "plt.plot(epoch_count, np.array(torch.tensor(loss_train).numpy()), label=\"train loss\")\n",
    "plt.plot(epoch_count, loss_test, label=\"test loss\")\n",
    "plt.title(\"Training and test loss curves\")\n",
    "plt.ylabel(\"Loss\")\n",
    "plt.xlabel(\"Epochs\")\n",
    "plt.legend()"
   ]
  },
  {
   "cell_type": "markdown",
   "metadata": {},
   "source": []
  },
  {
   "cell_type": "code",
   "execution_count": 115,
   "metadata": {},
   "outputs": [
    {
     "data": {
      "text/plain": [
       "tensor([[11.7765],\n",
       "        [12.3078],\n",
       "        [ 4.6924],\n",
       "        [13.7246],\n",
       "        [ 8.5887]])"
      ]
     },
     "execution_count": 115,
     "metadata": {},
     "output_type": "execute_result"
    }
   ],
   "source": [
    "# plot after training\n",
    "# make preciction without training\n",
    "with torch.inference_mode():\n",
    "    y_pred_new = model_0(X_test)\n",
    "\n",
    "\n",
    "y_pred_new[:5]"
   ]
  },
  {
   "cell_type": "code",
   "execution_count": 116,
   "metadata": {},
   "outputs": [
    {
     "data": {
      "image/png": "[encoded data removed]",
      "text/plain": [
       "<Figure size 1008x576 with 1 Axes>"
      ]
     },
     "metadata": {
      "needs_background": "light"
     },
     "output_type": "display_data"
    }
   ],
   "source": [
    "#plot\n",
    "plot_prediction(prediction=y_pred_new)"
   ]
  },
  {
   "cell_type": "code",
   "execution_count": null,
   "metadata": {},
   "outputs": [],
   "source": []
  }
 ],
 "metadata": {
  "kernelspec": {
   "display_name": "Python 3",
   "language": "python",
   "name": "python3"
  },
  "language_info": {
   "codemirror_mode": {
    "name": "ipython",
    "version": 3
   },
   "file_extension": ".py",
   "mimetype": "text/x-python",
   "name": "python",
   "nbconvert_exporter": "python",
   "pygments_lexer": "ipython3",
   "version": "3.10.12"
  }
 },
 "nbformat": 4,
 "nbformat_minor": 2
}
